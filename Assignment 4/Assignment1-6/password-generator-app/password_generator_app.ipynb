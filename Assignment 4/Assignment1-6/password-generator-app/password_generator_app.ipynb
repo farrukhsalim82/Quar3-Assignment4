{
  "nbformat": 4,
  "nbformat_minor": 0,
  "metadata": {
    "colab": {
      "provenance": []
    },
    "kernelspec": {
      "name": "python3",
      "display_name": "Python 3"
    },
    "language_info": {
      "name": "python"
    }
  },
  "cells": [
    {
      "cell_type": "code",
      "execution_count": null,
      "metadata": {
        "id": "abat1CO5E8Ek"
      },
      "outputs": [],
      "source": [
        "{\n",
        " \"cells\": [\n",
        "  {\n",
        "   \"cell_type\": \"code\",\n",
        "   \"execution_count\": null,\n",
        "   \"id\": \"ad94bab9\",\n",
        "   \"metadata\": {},\n",
        "   \"outputs\": [\n",
        "    {\n",
        "     \"name\": \"stdout\",\n",
        "     \"output_type\": \"stream\",\n",
        "     \"text\": [\n",
        "      \"\\n\",\n",
        "      \" ✨Welcome to the Password Generator App.✨ \\n\",\n",
        "      \"\\n\"\n",
        "     ]\n",
        "    }\n",
        "   ],\n",
        "   \"source\": [\n",
        "    \"import random\\n\",\n",
        "    \"import string\\n\",\n",
        "    \"\\n\",\n",
        "    \"print(\\\"\\\\n ✨Welcome to the Password Generator App.✨ \\\\n\\\")\\n\",\n",
        "    \"def generate_password(length=12,use_numbers=True,use_symbols=True):\\n\",\n",
        "    \"  '''Generate strong password with given options.'''\\n\",\n",
        "    \"  if length < (use_numbers + use_symbols):  # Check if length is enough for constraints\\n\",\n",
        "    \"        return \\\"❌ Password length is too short for selected options!\\\"\\n\",\n",
        "    \"\\n\",\n",
        "    \"  characters = string.ascii_letters\\n\",\n",
        "    \"  if use_numbers:\\n\",\n",
        "    \"    characters += string.digits\\n\",\n",
        "    \"  if use_symbols:\\n\",\n",
        "    \"    characters += string.punctuation\\n\",\n",
        "    \"  password = \\\"\\\".join(random.choice(characters) for _ in range(length))\\n\",\n",
        "    \"  return password\\n\",\n",
        "    \"\\n\",\n",
        "    \"try:\\n\",\n",
        "    \"  length = int(input(\\\"Enter password length: \\\"))\\n\",\n",
        "    \"  use_numbers = input(\\\"includes numbers? (yes/no):\\\").lower() == \\\"yes\\\"\\n\",\n",
        "    \"  use_symbols = input(\\\"Includes symbols? (yes/no):\\\").lower() == \\\"yes\\\"\\n\",\n",
        "    \"\\n\",\n",
        "    \"  password = generate_password(length,use_numbers,use_symbols)\\n\",\n",
        "    \"  print(\\\"\\\\n🔑 Your Generated Password: \\\", password)\\n\",\n",
        "    \"except ValueError:\\n\",\n",
        "    \"    print(\\\"❌ Please enter a valid number!\\\")\"\n",
        "   ]\n",
        "  }\n",
        " ],\n",
        " \"metadata\": {\n",
        "  \"kernelspec\": {\n",
        "   \"display_name\": \"Python 3\",\n",
        "   \"language\": \"python\",\n",
        "   \"name\": \"python3\"\n",
        "  },\n",
        "  \"language_info\": {\n",
        "   \"codemirror_mode\": {\n",
        "    \"name\": \"ipython\",\n",
        "    \"version\": 3\n",
        "   },\n",
        "   \"file_extension\": \".py\",\n",
        "   \"mimetype\": \"text/x-python\",\n",
        "   \"name\": \"python\",\n",
        "   \"nbconvert_exporter\": \"python\",\n",
        "   \"pygments_lexer\": \"ipython3\",\n",
        "   \"version\": \"3.12.2\"\n",
        "  }\n",
        " },\n",
        " \"nbformat\": 4,\n",
        " \"nbformat_minor\": 5\n",
        "}"
      ]
    }
  ]
}